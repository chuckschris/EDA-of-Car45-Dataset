{
 "cells": [
  {
   "cell_type": "markdown",
   "id": "4c004795",
   "metadata": {},
   "source": [
    "# Car Web Scraping Data Project\n",
    "\n",
    "## web scraping using python!\n",
    "\n",
    "# Description:\n",
    "\n",
    "In this data science project, I leveraged Python and its powerful libraries, including Beautiful Soup and Requests, to scrape valuable information from car-related websites. The goal of the project was to gather data about various car models, their specifications, prices, and other relevant details.\n",
    "\n",
    "** Description: In this data science project, I leveraged Python and its powerful libraries, including Beautiful Soup and Requests, to scrape valuable information from car-related websites. The goal of the project was to gather data about various car models, their specifications, prices, and other relevant details.\n",
    "\n",
    "** Scope: The scope of the project encompassed identifying and scraping data from a car listing website, representing different car model or a category. The scraped data included text descriptions and numeric specifications. I cleaned and structured the scraped data to ensure its usability for further analysis.\n",
    "\n",
    "** Challenges: While scraping the data, I encountered challenges related to website structures, varying layouts, and potential rate-limiting or IP-blocking from the websites due to excessive requests. To mitigate these challenges, I implemented measures such as using user-agents and incorporating time delays between requests.\n",
    "Outcome: The project resulted in a well-organized dataset containing a comprehensive collection of car information. This dataset serves as a valuable resource for conducting analyses such as price trends, feature comparisons, and sentiment analysis based on customer reviews. The scraped data can also be integrated into machine learning models for predictive analytics related to car pricing and customer preferences.\n",
    "\n",
    "** Key Skills: Web scraping, HTML parsing, data cleaning, data structuring, Python (Beautiful Soup, urllib3), data analysis, data visualization.\n",
    "\n",
    "** Future Directions: In the future, this project can be expanded to include data from more websites, encompassing a broader range of car models and brands. Additionally, advanced techniques such as implementing automated scraping scripts, using proxies, and handling dynamic web content (JavaScript-rendered pages) could enhance the project's scope and capabilities."
   ]
  },
  {
   "cell_type": "markdown",
   "id": "599cc9af",
   "metadata": {},
   "source": [
    "# Import Library"
   ]
  },
  {
   "cell_type": "code",
   "execution_count": 62,
   "id": "0bfb4f64",
   "metadata": {},
   "outputs": [],
   "source": [
    "from bs4 import BeautifulSoup\n",
    "import requests\n",
    "import urllib3\n",
    "import certifi\n",
    "\n",
    "\n",
    "import pandas as pd"
   ]
  },
  {
   "cell_type": "code",
   "execution_count": 63,
   "id": "5e1f961d",
   "metadata": {},
   "outputs": [],
   "source": [
    "# car data\n",
    "car_dict = {\n",
    "    'car_id': [],\n",
    "    'description': [],\n",
    "    'amount': [],\n",
    "    'region': [],\n",
    "    'make': [],\n",
    "    'model': [],\n",
    "    'year_of_man': [],\n",
    "    'color': [],\n",
    "    'condition': [],\n",
    "    'mileage': [],\n",
    "    'engine_size': [],\n",
    "    'selling_cond': [],\n",
    "    'bought_cond': [],\n",
    "    'trim': [],\n",
    "    'drive_train': [],\n",
    "    'reg_city': [],\n",
    "    'seat': [],\n",
    "    'num_cylinder': [],\n",
    "    'horse_power': []\n",
    "}"
   ]
  },
  {
   "cell_type": "code",
   "execution_count": 64,
   "id": "c61e5844",
   "metadata": {},
   "outputs": [],
   "source": [
    "# Getting other data\n",
    "\n",
    "def get_details(id):\n",
    "        \n",
    "    car_details = {}\n",
    "    \n",
    "    res = requests.get(f\"https://www.cars45.com/{id}\")\n",
    "\n",
    "    soup = BeautifulSoup(res.content, \"html.parser\")\n",
    "\n",
    "    car_overview = soup.find('div', class_='svg flex').get_text().strip()    \n",
    "\n",
    "    # Find the <span> tag with the specified text\n",
    "    make_span = soup.find('span', string='Make')\n",
    "    model_span = soup.find('span', string='Model')\n",
    "    year_of_man_span = soup.find('span', string='Year of manufacture')\n",
    "    color_span = soup.find('span', string='Colour')\n",
    "    condition_span = soup.find('span', string='Condition')\n",
    "    mileage_span = soup.find('span', string='Mileage')\n",
    "    engine_size_span = soup.find('span', string='Engine Size')\n",
    "    selling_cond_span = soup.find('span', string='Selling Condition')\n",
    "    bought_cond_span = soup.find('span', string='Bought Condition')\n",
    "    trim_span = soup.find('span', string='Trim')\n",
    "    drive_train_span = soup.find('span', string='Drivetrain')\n",
    "    reg_city_span = soup.find('span', string='Registered city')\n",
    "    seat_span = soup.find('span', string='Seats')\n",
    "    num_cylinder_span = soup.find('span', string='Number of Cylinders')\n",
    "    horse_power_span = soup.find('span', string='Horse Power')\n",
    "    \n",
    "    # If the target <span> tag is found, find the preceding <p> tag\n",
    "    if make_span:\n",
    "        preceding_p_tag = make_span.find_previous_sibling('p')\n",
    "        if preceding_p_tag:\n",
    "            car_details['make'] = preceding_p_tag.get_text().strip()\n",
    "        else:\n",
    "            car_details['make'] = ''\n",
    "    else:\n",
    "        car_details['make'] = ''\n",
    "    \n",
    "    if model_span:\n",
    "        preceding_p_tag = model_span.find_previous_sibling('p')\n",
    "        if preceding_p_tag:\n",
    "            car_details['model'] = preceding_p_tag.get_text().strip()\n",
    "        else:\n",
    "            car_details['model'] = ''\n",
    "    else:\n",
    "        car_details['model'] = ''\n",
    "        \n",
    "    \n",
    "    if year_of_man_span:\n",
    "        preceding_p_tag = year_of_man_span.find_previous_sibling('p')\n",
    "        if preceding_p_tag:\n",
    "            car_details['year_of_man'] = preceding_p_tag.get_text().strip()\n",
    "        else:\n",
    "            car_details['year_of_man'] = ''\n",
    "    else:\n",
    "        car_details['year_of_man'] = ''\n",
    "        \n",
    "        \n",
    "    if color_span:\n",
    "        preceding_p_tag = color_span.find_previous_sibling('p')\n",
    "        if preceding_p_tag:\n",
    "            car_details['color'] = preceding_p_tag.get_text().strip()\n",
    "        else:\n",
    "            car_details['color'] = ''\n",
    "    else:\n",
    "        car_details['color'] = ''\n",
    "        \n",
    "    \n",
    "    if condition_span:\n",
    "        preceding_p_tag = condition_span.find_previous_sibling('p')\n",
    "        if preceding_p_tag:\n",
    "            car_details['condition'] = preceding_p_tag.get_text().strip()\n",
    "        else:\n",
    "            car_details['condition'] = ''\n",
    "    else:\n",
    "        car_details['condition'] = ''\n",
    "            \n",
    "    \n",
    "    if mileage_span:\n",
    "        preceding_p_tag = mileage_span.find_previous_sibling('p')\n",
    "        if preceding_p_tag:\n",
    "            car_details['mileage'] = preceding_p_tag.get_text().strip()\n",
    "        else:\n",
    "            car_details['mileage'] = ''\n",
    "    else:\n",
    "        car_details['mileage'] = ''\n",
    "        \n",
    "        \n",
    "    if engine_size_span:\n",
    "        preceding_p_tag = engine_size_span.find_previous_sibling('p')\n",
    "        if preceding_p_tag:\n",
    "            car_details['engine_size'] = preceding_p_tag.get_text().strip()\n",
    "        else:\n",
    "            car_details['engine_size'] = ''\n",
    "    else:\n",
    "        car_details['engine_size'] = ''\n",
    "            \n",
    "    \n",
    "    if selling_cond_span:\n",
    "        preceding_p_tag = selling_cond_span.find_previous_sibling('p')\n",
    "        if preceding_p_tag:\n",
    "            car_details['selling_cond'] = preceding_p_tag.get_text().strip()\n",
    "        else:\n",
    "            car_details['selling_cond'] = ''\n",
    "    else:\n",
    "        car_details['selling_cond'] = ''\n",
    "        \n",
    "    \n",
    "    if bought_cond_span:\n",
    "        preceding_p_tag = bought_cond_span.find_previous_sibling('p')\n",
    "        if preceding_p_tag:\n",
    "            car_details['bought_cond'] = preceding_p_tag.get_text().strip()\n",
    "        else:\n",
    "            car_details['bought_cond'] = ''\n",
    "    else:\n",
    "        car_details['bought_cond'] = ''\n",
    "        \n",
    "        \n",
    "    \n",
    "    if trim_span:\n",
    "        preceding_p_tag = trim_span.find_previous_sibling('p')\n",
    "        if preceding_p_tag:\n",
    "            car_details['trim'] = preceding_p_tag.get_text().strip()\n",
    "        else:\n",
    "            car_details['trim'] = ''\n",
    "    else:\n",
    "        car_details['trim'] = ''\n",
    "        \n",
    "        \n",
    "            \n",
    "    \n",
    "    if drive_train_span:\n",
    "        preceding_p_tag = drive_train_span.find_previous_sibling('p')\n",
    "        if preceding_p_tag:\n",
    "            car_details['drive_train'] = preceding_p_tag.get_text().strip()\n",
    "        else:\n",
    "            car_details['drive_train'] = ''\n",
    "    else:\n",
    "        car_details['drive_train'] = ''\n",
    "        \n",
    "            \n",
    "    \n",
    "    if reg_city_span:\n",
    "        preceding_p_tag = reg_city_span.find_previous_sibling('p')\n",
    "        if preceding_p_tag:\n",
    "            car_details['reg_city'] = preceding_p_tag.get_text().strip()\n",
    "        else:\n",
    "            car_details['reg_city'] = ''\n",
    "    else:\n",
    "        car_details['reg_city'] = ''\n",
    "        \n",
    "        \n",
    "        \n",
    "    if seat_span:\n",
    "        preceding_p_tag = seat_span.find_previous_sibling('p')\n",
    "        if preceding_p_tag:\n",
    "            car_details['seat'] = preceding_p_tag.get_text().strip()\n",
    "        else:\n",
    "            car_details['seat'] = ''\n",
    "    else:\n",
    "        car_details['seat'] = ''\n",
    "        \n",
    "\n",
    "    \n",
    "    if num_cylinder_span:\n",
    "        preceding_p_tag = num_cylinder_span.find_previous_sibling('p')\n",
    "        if preceding_p_tag:\n",
    "            car_details['num_cylinder'] = preceding_p_tag.get_text().strip()\n",
    "        else:\n",
    "            car_details['num_cylinder'] = ''\n",
    "    else:\n",
    "        car_details['num_cylinder'] = ''\n",
    "        \n",
    "            \n",
    "    \n",
    "    if horse_power_span:\n",
    "        preceding_p_tag = horse_power_span.find_previous_sibling('p')\n",
    "        if preceding_p_tag:\n",
    "            car_details['horse_power'] = preceding_p_tag.get_text().strip()\n",
    "        else:\n",
    "            car_details['horse_power'] = ''\n",
    "    else:\n",
    "        car_details['horse_power'] = ''\n",
    "\n",
    "        \n",
    "    return car_details\n"
   ]
  },
  {
   "cell_type": "code",
   "execution_count": 65,
   "id": "bd312ef6",
   "metadata": {},
   "outputs": [],
   "source": [
    "# funtion to return all car list in a dictionary|\n",
    "def get_info(car_listings):\n",
    "    # loop through all list\n",
    "    for car in car_listings:\n",
    "        car_id = car['href'].replace('/','')\n",
    "        description = car.find('p', class_=\"car-feature__name\").get_text().strip()\n",
    "        amount = car.find('p', class_=\"car-feature__amount\").get_text().strip()\n",
    "        region = car.find('p', class_=\"car-feature__region\").get_text().strip()\n",
    "        \n",
    "        car_details = get_details(car_id)\n",
    "        \n",
    "        car_dict['car_id'].append(car_id)\n",
    "        car_dict['description'].append(description)\n",
    "        car_dict['amount'].append(amount)\n",
    "        car_dict['region'].append(region)\n",
    "        \n",
    "        car_dict['make'].append(car_details['make'])\n",
    "        car_dict['model'].append(car_details['model'])\n",
    "        car_dict['year_of_man'].append(car_details['year_of_man'])\n",
    "        car_dict['color'].append(car_details['color'])\n",
    "        car_dict['condition'].append(car_details['condition'])\n",
    "        car_dict['mileage'].append(car_details['mileage'])\n",
    "        car_dict['engine_size'].append(car_details['engine_size'])\n",
    "        car_dict['selling_cond'].append(car_details['selling_cond'])\n",
    "        car_dict['bought_cond'].append(car_details['bought_cond'])\n",
    "        car_dict['trim'].append(car_details['trim'])\n",
    "        car_dict['drive_train'].append(car_details['drive_train'])\n",
    "        car_dict['reg_city'].append(car_details['reg_city'])\n",
    "        car_dict['seat'].append(car_details['seat'])\n",
    "        car_dict['num_cylinder'].append(car_details['num_cylinder'])\n",
    "        car_dict['horse_power'].append(car_details['horse_power'])"
   ]
  },
  {
   "cell_type": "code",
   "execution_count": 66,
   "id": "f37ed68c",
   "metadata": {},
   "outputs": [],
   "source": [
    "def main():\n",
    "    # loop through the pages\n",
    "    \n",
    "#     http = urllib3.PoolManager(cert_reqs='CERT_REQUIRED', ca_certs=certifi.where())\n",
    "    for page in range(1,201):\n",
    "        res = requests.get(f'https://www.cars45.com/listing?page={page}')\n",
    "    \n",
    "        soup = BeautifulSoup(res.content, 'html.parser')\n",
    "        car_listings = soup.find_all('a', class_='car-feature car-feature--wide-mobile')\n",
    "            \n",
    "        # invoke the get_info()\n",
    "        get_info(car_listings)\n",
    "    \n",
    "    return car_dict"
   ]
  },
  {
   "cell_type": "code",
   "execution_count": 67,
   "id": "d419e85d",
   "metadata": {},
   "outputs": [
    {
     "ename": "ConnectionError",
     "evalue": "HTTPSConnectionPool(host='www.cars45.com', port=443): Max retries exceeded with url: /listing?page=1 (Caused by NewConnectionError('<urllib3.connection.HTTPSConnection object at 0x000002C27BC028F0>: Failed to establish a new connection: [Errno 11002] getaddrinfo failed'))",
     "output_type": "error",
     "traceback": [
      "\u001b[1;31m---------------------------------------------------------------------------\u001b[0m",
      "\u001b[1;31mgaierror\u001b[0m                                  Traceback (most recent call last)",
      "File \u001b[1;32m~\\anaconda3\\lib\\site-packages\\urllib3\\connection.py:174\u001b[0m, in \u001b[0;36mHTTPConnection._new_conn\u001b[1;34m(self)\u001b[0m\n\u001b[0;32m    173\u001b[0m \u001b[38;5;28;01mtry\u001b[39;00m:\n\u001b[1;32m--> 174\u001b[0m     conn \u001b[38;5;241m=\u001b[39m connection\u001b[38;5;241m.\u001b[39mcreate_connection(\n\u001b[0;32m    175\u001b[0m         (\u001b[38;5;28mself\u001b[39m\u001b[38;5;241m.\u001b[39m_dns_host, \u001b[38;5;28mself\u001b[39m\u001b[38;5;241m.\u001b[39mport), \u001b[38;5;28mself\u001b[39m\u001b[38;5;241m.\u001b[39mtimeout, \u001b[38;5;241m*\u001b[39m\u001b[38;5;241m*\u001b[39mextra_kw\n\u001b[0;32m    176\u001b[0m     )\n\u001b[0;32m    178\u001b[0m \u001b[38;5;28;01mexcept\u001b[39;00m SocketTimeout:\n",
      "File \u001b[1;32m~\\anaconda3\\lib\\site-packages\\urllib3\\util\\connection.py:72\u001b[0m, in \u001b[0;36mcreate_connection\u001b[1;34m(address, timeout, source_address, socket_options)\u001b[0m\n\u001b[0;32m     68\u001b[0m     \u001b[38;5;28;01mreturn\u001b[39;00m six\u001b[38;5;241m.\u001b[39mraise_from(\n\u001b[0;32m     69\u001b[0m         LocationParseError(\u001b[38;5;124mu\u001b[39m\u001b[38;5;124m\"\u001b[39m\u001b[38;5;124m'\u001b[39m\u001b[38;5;132;01m%s\u001b[39;00m\u001b[38;5;124m'\u001b[39m\u001b[38;5;124m, label empty or too long\u001b[39m\u001b[38;5;124m\"\u001b[39m \u001b[38;5;241m%\u001b[39m host), \u001b[38;5;28;01mNone\u001b[39;00m\n\u001b[0;32m     70\u001b[0m     )\n\u001b[1;32m---> 72\u001b[0m \u001b[38;5;28;01mfor\u001b[39;00m res \u001b[38;5;129;01min\u001b[39;00m \u001b[43msocket\u001b[49m\u001b[38;5;241;43m.\u001b[39;49m\u001b[43mgetaddrinfo\u001b[49m\u001b[43m(\u001b[49m\u001b[43mhost\u001b[49m\u001b[43m,\u001b[49m\u001b[43m \u001b[49m\u001b[43mport\u001b[49m\u001b[43m,\u001b[49m\u001b[43m \u001b[49m\u001b[43mfamily\u001b[49m\u001b[43m,\u001b[49m\u001b[43m \u001b[49m\u001b[43msocket\u001b[49m\u001b[38;5;241;43m.\u001b[39;49m\u001b[43mSOCK_STREAM\u001b[49m\u001b[43m)\u001b[49m:\n\u001b[0;32m     73\u001b[0m     af, socktype, proto, canonname, sa \u001b[38;5;241m=\u001b[39m res\n",
      "File \u001b[1;32m~\\anaconda3\\lib\\socket.py:955\u001b[0m, in \u001b[0;36mgetaddrinfo\u001b[1;34m(host, port, family, type, proto, flags)\u001b[0m\n\u001b[0;32m    954\u001b[0m addrlist \u001b[38;5;241m=\u001b[39m []\n\u001b[1;32m--> 955\u001b[0m \u001b[38;5;28;01mfor\u001b[39;00m res \u001b[38;5;129;01min\u001b[39;00m \u001b[43m_socket\u001b[49m\u001b[38;5;241;43m.\u001b[39;49m\u001b[43mgetaddrinfo\u001b[49m\u001b[43m(\u001b[49m\u001b[43mhost\u001b[49m\u001b[43m,\u001b[49m\u001b[43m \u001b[49m\u001b[43mport\u001b[49m\u001b[43m,\u001b[49m\u001b[43m \u001b[49m\u001b[43mfamily\u001b[49m\u001b[43m,\u001b[49m\u001b[43m \u001b[49m\u001b[38;5;28;43mtype\u001b[39;49m\u001b[43m,\u001b[49m\u001b[43m \u001b[49m\u001b[43mproto\u001b[49m\u001b[43m,\u001b[49m\u001b[43m \u001b[49m\u001b[43mflags\u001b[49m\u001b[43m)\u001b[49m:\n\u001b[0;32m    956\u001b[0m     af, socktype, proto, canonname, sa \u001b[38;5;241m=\u001b[39m res\n",
      "\u001b[1;31mgaierror\u001b[0m: [Errno 11002] getaddrinfo failed",
      "\nDuring handling of the above exception, another exception occurred:\n",
      "\u001b[1;31mNewConnectionError\u001b[0m                        Traceback (most recent call last)",
      "File \u001b[1;32m~\\anaconda3\\lib\\site-packages\\urllib3\\connectionpool.py:703\u001b[0m, in \u001b[0;36mHTTPConnectionPool.urlopen\u001b[1;34m(self, method, url, body, headers, retries, redirect, assert_same_host, timeout, pool_timeout, release_conn, chunked, body_pos, **response_kw)\u001b[0m\n\u001b[0;32m    702\u001b[0m \u001b[38;5;66;03m# Make the request on the httplib connection object.\u001b[39;00m\n\u001b[1;32m--> 703\u001b[0m httplib_response \u001b[38;5;241m=\u001b[39m \u001b[38;5;28;43mself\u001b[39;49m\u001b[38;5;241;43m.\u001b[39;49m\u001b[43m_make_request\u001b[49m\u001b[43m(\u001b[49m\n\u001b[0;32m    704\u001b[0m \u001b[43m    \u001b[49m\u001b[43mconn\u001b[49m\u001b[43m,\u001b[49m\n\u001b[0;32m    705\u001b[0m \u001b[43m    \u001b[49m\u001b[43mmethod\u001b[49m\u001b[43m,\u001b[49m\n\u001b[0;32m    706\u001b[0m \u001b[43m    \u001b[49m\u001b[43murl\u001b[49m\u001b[43m,\u001b[49m\n\u001b[0;32m    707\u001b[0m \u001b[43m    \u001b[49m\u001b[43mtimeout\u001b[49m\u001b[38;5;241;43m=\u001b[39;49m\u001b[43mtimeout_obj\u001b[49m\u001b[43m,\u001b[49m\n\u001b[0;32m    708\u001b[0m \u001b[43m    \u001b[49m\u001b[43mbody\u001b[49m\u001b[38;5;241;43m=\u001b[39;49m\u001b[43mbody\u001b[49m\u001b[43m,\u001b[49m\n\u001b[0;32m    709\u001b[0m \u001b[43m    \u001b[49m\u001b[43mheaders\u001b[49m\u001b[38;5;241;43m=\u001b[39;49m\u001b[43mheaders\u001b[49m\u001b[43m,\u001b[49m\n\u001b[0;32m    710\u001b[0m \u001b[43m    \u001b[49m\u001b[43mchunked\u001b[49m\u001b[38;5;241;43m=\u001b[39;49m\u001b[43mchunked\u001b[49m\u001b[43m,\u001b[49m\n\u001b[0;32m    711\u001b[0m \u001b[43m\u001b[49m\u001b[43m)\u001b[49m\n\u001b[0;32m    713\u001b[0m \u001b[38;5;66;03m# If we're going to release the connection in ``finally:``, then\u001b[39;00m\n\u001b[0;32m    714\u001b[0m \u001b[38;5;66;03m# the response doesn't need to know about the connection. Otherwise\u001b[39;00m\n\u001b[0;32m    715\u001b[0m \u001b[38;5;66;03m# it will also try to release it and we'll have a double-release\u001b[39;00m\n\u001b[0;32m    716\u001b[0m \u001b[38;5;66;03m# mess.\u001b[39;00m\n",
      "File \u001b[1;32m~\\anaconda3\\lib\\site-packages\\urllib3\\connectionpool.py:386\u001b[0m, in \u001b[0;36mHTTPConnectionPool._make_request\u001b[1;34m(self, conn, method, url, timeout, chunked, **httplib_request_kw)\u001b[0m\n\u001b[0;32m    385\u001b[0m \u001b[38;5;28;01mtry\u001b[39;00m:\n\u001b[1;32m--> 386\u001b[0m     \u001b[38;5;28;43mself\u001b[39;49m\u001b[38;5;241;43m.\u001b[39;49m\u001b[43m_validate_conn\u001b[49m\u001b[43m(\u001b[49m\u001b[43mconn\u001b[49m\u001b[43m)\u001b[49m\n\u001b[0;32m    387\u001b[0m \u001b[38;5;28;01mexcept\u001b[39;00m (SocketTimeout, BaseSSLError) \u001b[38;5;28;01mas\u001b[39;00m e:\n\u001b[0;32m    388\u001b[0m     \u001b[38;5;66;03m# Py2 raises this as a BaseSSLError, Py3 raises it as socket timeout.\u001b[39;00m\n",
      "File \u001b[1;32m~\\anaconda3\\lib\\site-packages\\urllib3\\connectionpool.py:1042\u001b[0m, in \u001b[0;36mHTTPSConnectionPool._validate_conn\u001b[1;34m(self, conn)\u001b[0m\n\u001b[0;32m   1041\u001b[0m \u001b[38;5;28;01mif\u001b[39;00m \u001b[38;5;129;01mnot\u001b[39;00m \u001b[38;5;28mgetattr\u001b[39m(conn, \u001b[38;5;124m\"\u001b[39m\u001b[38;5;124msock\u001b[39m\u001b[38;5;124m\"\u001b[39m, \u001b[38;5;28;01mNone\u001b[39;00m):  \u001b[38;5;66;03m# AppEngine might not have  `.sock`\u001b[39;00m\n\u001b[1;32m-> 1042\u001b[0m     \u001b[43mconn\u001b[49m\u001b[38;5;241;43m.\u001b[39;49m\u001b[43mconnect\u001b[49m\u001b[43m(\u001b[49m\u001b[43m)\u001b[49m\n\u001b[0;32m   1044\u001b[0m \u001b[38;5;28;01mif\u001b[39;00m \u001b[38;5;129;01mnot\u001b[39;00m conn\u001b[38;5;241m.\u001b[39mis_verified:\n",
      "File \u001b[1;32m~\\anaconda3\\lib\\site-packages\\urllib3\\connection.py:358\u001b[0m, in \u001b[0;36mHTTPSConnection.connect\u001b[1;34m(self)\u001b[0m\n\u001b[0;32m    356\u001b[0m \u001b[38;5;28;01mdef\u001b[39;00m \u001b[38;5;21mconnect\u001b[39m(\u001b[38;5;28mself\u001b[39m):\n\u001b[0;32m    357\u001b[0m     \u001b[38;5;66;03m# Add certificate verification\u001b[39;00m\n\u001b[1;32m--> 358\u001b[0m     \u001b[38;5;28mself\u001b[39m\u001b[38;5;241m.\u001b[39msock \u001b[38;5;241m=\u001b[39m conn \u001b[38;5;241m=\u001b[39m \u001b[38;5;28;43mself\u001b[39;49m\u001b[38;5;241;43m.\u001b[39;49m\u001b[43m_new_conn\u001b[49m\u001b[43m(\u001b[49m\u001b[43m)\u001b[49m\n\u001b[0;32m    359\u001b[0m     hostname \u001b[38;5;241m=\u001b[39m \u001b[38;5;28mself\u001b[39m\u001b[38;5;241m.\u001b[39mhost\n",
      "File \u001b[1;32m~\\anaconda3\\lib\\site-packages\\urllib3\\connection.py:186\u001b[0m, in \u001b[0;36mHTTPConnection._new_conn\u001b[1;34m(self)\u001b[0m\n\u001b[0;32m    185\u001b[0m \u001b[38;5;28;01mexcept\u001b[39;00m SocketError \u001b[38;5;28;01mas\u001b[39;00m e:\n\u001b[1;32m--> 186\u001b[0m     \u001b[38;5;28;01mraise\u001b[39;00m NewConnectionError(\n\u001b[0;32m    187\u001b[0m         \u001b[38;5;28mself\u001b[39m, \u001b[38;5;124m\"\u001b[39m\u001b[38;5;124mFailed to establish a new connection: \u001b[39m\u001b[38;5;132;01m%s\u001b[39;00m\u001b[38;5;124m\"\u001b[39m \u001b[38;5;241m%\u001b[39m e\n\u001b[0;32m    188\u001b[0m     )\n\u001b[0;32m    190\u001b[0m \u001b[38;5;28;01mreturn\u001b[39;00m conn\n",
      "\u001b[1;31mNewConnectionError\u001b[0m: <urllib3.connection.HTTPSConnection object at 0x000002C27BC028F0>: Failed to establish a new connection: [Errno 11002] getaddrinfo failed",
      "\nDuring handling of the above exception, another exception occurred:\n",
      "\u001b[1;31mMaxRetryError\u001b[0m                             Traceback (most recent call last)",
      "File \u001b[1;32m~\\anaconda3\\lib\\site-packages\\requests\\adapters.py:489\u001b[0m, in \u001b[0;36mHTTPAdapter.send\u001b[1;34m(self, request, stream, timeout, verify, cert, proxies)\u001b[0m\n\u001b[0;32m    488\u001b[0m \u001b[38;5;28;01mif\u001b[39;00m \u001b[38;5;129;01mnot\u001b[39;00m chunked:\n\u001b[1;32m--> 489\u001b[0m     resp \u001b[38;5;241m=\u001b[39m \u001b[43mconn\u001b[49m\u001b[38;5;241;43m.\u001b[39;49m\u001b[43murlopen\u001b[49m\u001b[43m(\u001b[49m\n\u001b[0;32m    490\u001b[0m \u001b[43m        \u001b[49m\u001b[43mmethod\u001b[49m\u001b[38;5;241;43m=\u001b[39;49m\u001b[43mrequest\u001b[49m\u001b[38;5;241;43m.\u001b[39;49m\u001b[43mmethod\u001b[49m\u001b[43m,\u001b[49m\n\u001b[0;32m    491\u001b[0m \u001b[43m        \u001b[49m\u001b[43murl\u001b[49m\u001b[38;5;241;43m=\u001b[39;49m\u001b[43murl\u001b[49m\u001b[43m,\u001b[49m\n\u001b[0;32m    492\u001b[0m \u001b[43m        \u001b[49m\u001b[43mbody\u001b[49m\u001b[38;5;241;43m=\u001b[39;49m\u001b[43mrequest\u001b[49m\u001b[38;5;241;43m.\u001b[39;49m\u001b[43mbody\u001b[49m\u001b[43m,\u001b[49m\n\u001b[0;32m    493\u001b[0m \u001b[43m        \u001b[49m\u001b[43mheaders\u001b[49m\u001b[38;5;241;43m=\u001b[39;49m\u001b[43mrequest\u001b[49m\u001b[38;5;241;43m.\u001b[39;49m\u001b[43mheaders\u001b[49m\u001b[43m,\u001b[49m\n\u001b[0;32m    494\u001b[0m \u001b[43m        \u001b[49m\u001b[43mredirect\u001b[49m\u001b[38;5;241;43m=\u001b[39;49m\u001b[38;5;28;43;01mFalse\u001b[39;49;00m\u001b[43m,\u001b[49m\n\u001b[0;32m    495\u001b[0m \u001b[43m        \u001b[49m\u001b[43massert_same_host\u001b[49m\u001b[38;5;241;43m=\u001b[39;49m\u001b[38;5;28;43;01mFalse\u001b[39;49;00m\u001b[43m,\u001b[49m\n\u001b[0;32m    496\u001b[0m \u001b[43m        \u001b[49m\u001b[43mpreload_content\u001b[49m\u001b[38;5;241;43m=\u001b[39;49m\u001b[38;5;28;43;01mFalse\u001b[39;49;00m\u001b[43m,\u001b[49m\n\u001b[0;32m    497\u001b[0m \u001b[43m        \u001b[49m\u001b[43mdecode_content\u001b[49m\u001b[38;5;241;43m=\u001b[39;49m\u001b[38;5;28;43;01mFalse\u001b[39;49;00m\u001b[43m,\u001b[49m\n\u001b[0;32m    498\u001b[0m \u001b[43m        \u001b[49m\u001b[43mretries\u001b[49m\u001b[38;5;241;43m=\u001b[39;49m\u001b[38;5;28;43mself\u001b[39;49m\u001b[38;5;241;43m.\u001b[39;49m\u001b[43mmax_retries\u001b[49m\u001b[43m,\u001b[49m\n\u001b[0;32m    499\u001b[0m \u001b[43m        \u001b[49m\u001b[43mtimeout\u001b[49m\u001b[38;5;241;43m=\u001b[39;49m\u001b[43mtimeout\u001b[49m\u001b[43m,\u001b[49m\n\u001b[0;32m    500\u001b[0m \u001b[43m    \u001b[49m\u001b[43m)\u001b[49m\n\u001b[0;32m    502\u001b[0m \u001b[38;5;66;03m# Send the request.\u001b[39;00m\n\u001b[0;32m    503\u001b[0m \u001b[38;5;28;01melse\u001b[39;00m:\n",
      "File \u001b[1;32m~\\anaconda3\\lib\\site-packages\\urllib3\\connectionpool.py:787\u001b[0m, in \u001b[0;36mHTTPConnectionPool.urlopen\u001b[1;34m(self, method, url, body, headers, retries, redirect, assert_same_host, timeout, pool_timeout, release_conn, chunked, body_pos, **response_kw)\u001b[0m\n\u001b[0;32m    785\u001b[0m     e \u001b[38;5;241m=\u001b[39m ProtocolError(\u001b[38;5;124m\"\u001b[39m\u001b[38;5;124mConnection aborted.\u001b[39m\u001b[38;5;124m\"\u001b[39m, e)\n\u001b[1;32m--> 787\u001b[0m retries \u001b[38;5;241m=\u001b[39m \u001b[43mretries\u001b[49m\u001b[38;5;241;43m.\u001b[39;49m\u001b[43mincrement\u001b[49m\u001b[43m(\u001b[49m\n\u001b[0;32m    788\u001b[0m \u001b[43m    \u001b[49m\u001b[43mmethod\u001b[49m\u001b[43m,\u001b[49m\u001b[43m \u001b[49m\u001b[43murl\u001b[49m\u001b[43m,\u001b[49m\u001b[43m \u001b[49m\u001b[43merror\u001b[49m\u001b[38;5;241;43m=\u001b[39;49m\u001b[43me\u001b[49m\u001b[43m,\u001b[49m\u001b[43m \u001b[49m\u001b[43m_pool\u001b[49m\u001b[38;5;241;43m=\u001b[39;49m\u001b[38;5;28;43mself\u001b[39;49m\u001b[43m,\u001b[49m\u001b[43m \u001b[49m\u001b[43m_stacktrace\u001b[49m\u001b[38;5;241;43m=\u001b[39;49m\u001b[43msys\u001b[49m\u001b[38;5;241;43m.\u001b[39;49m\u001b[43mexc_info\u001b[49m\u001b[43m(\u001b[49m\u001b[43m)\u001b[49m\u001b[43m[\u001b[49m\u001b[38;5;241;43m2\u001b[39;49m\u001b[43m]\u001b[49m\n\u001b[0;32m    789\u001b[0m \u001b[43m\u001b[49m\u001b[43m)\u001b[49m\n\u001b[0;32m    790\u001b[0m retries\u001b[38;5;241m.\u001b[39msleep()\n",
      "File \u001b[1;32m~\\anaconda3\\lib\\site-packages\\urllib3\\util\\retry.py:592\u001b[0m, in \u001b[0;36mRetry.increment\u001b[1;34m(self, method, url, response, error, _pool, _stacktrace)\u001b[0m\n\u001b[0;32m    591\u001b[0m \u001b[38;5;28;01mif\u001b[39;00m new_retry\u001b[38;5;241m.\u001b[39mis_exhausted():\n\u001b[1;32m--> 592\u001b[0m     \u001b[38;5;28;01mraise\u001b[39;00m MaxRetryError(_pool, url, error \u001b[38;5;129;01mor\u001b[39;00m ResponseError(cause))\n\u001b[0;32m    594\u001b[0m log\u001b[38;5;241m.\u001b[39mdebug(\u001b[38;5;124m\"\u001b[39m\u001b[38;5;124mIncremented Retry for (url=\u001b[39m\u001b[38;5;124m'\u001b[39m\u001b[38;5;132;01m%s\u001b[39;00m\u001b[38;5;124m'\u001b[39m\u001b[38;5;124m): \u001b[39m\u001b[38;5;132;01m%r\u001b[39;00m\u001b[38;5;124m\"\u001b[39m, url, new_retry)\n",
      "\u001b[1;31mMaxRetryError\u001b[0m: HTTPSConnectionPool(host='www.cars45.com', port=443): Max retries exceeded with url: /listing?page=1 (Caused by NewConnectionError('<urllib3.connection.HTTPSConnection object at 0x000002C27BC028F0>: Failed to establish a new connection: [Errno 11002] getaddrinfo failed'))",
      "\nDuring handling of the above exception, another exception occurred:\n",
      "\u001b[1;31mConnectionError\u001b[0m                           Traceback (most recent call last)",
      "Cell \u001b[1;32mIn[67], line 1\u001b[0m\n\u001b[1;32m----> 1\u001b[0m car_data \u001b[38;5;241m=\u001b[39m \u001b[43mmain\u001b[49m\u001b[43m(\u001b[49m\u001b[43m)\u001b[49m\n",
      "Cell \u001b[1;32mIn[66], line 6\u001b[0m, in \u001b[0;36mmain\u001b[1;34m()\u001b[0m\n\u001b[0;32m      1\u001b[0m \u001b[38;5;28;01mdef\u001b[39;00m \u001b[38;5;21mmain\u001b[39m():\n\u001b[0;32m      2\u001b[0m     \u001b[38;5;66;03m# loop through the pages\u001b[39;00m\n\u001b[0;32m      3\u001b[0m     \n\u001b[0;32m      4\u001b[0m \u001b[38;5;66;03m#     http = urllib3.PoolManager(cert_reqs='CERT_REQUIRED', ca_certs=certifi.where())\u001b[39;00m\n\u001b[0;32m      5\u001b[0m     \u001b[38;5;28;01mfor\u001b[39;00m page \u001b[38;5;129;01min\u001b[39;00m \u001b[38;5;28mrange\u001b[39m(\u001b[38;5;241m1\u001b[39m,\u001b[38;5;241m201\u001b[39m):\n\u001b[1;32m----> 6\u001b[0m         res \u001b[38;5;241m=\u001b[39m \u001b[43mrequests\u001b[49m\u001b[38;5;241;43m.\u001b[39;49m\u001b[43mget\u001b[49m\u001b[43m(\u001b[49m\u001b[38;5;124;43mf\u001b[39;49m\u001b[38;5;124;43m'\u001b[39;49m\u001b[38;5;124;43mhttps://www.cars45.com/listing?page=\u001b[39;49m\u001b[38;5;132;43;01m{\u001b[39;49;00m\u001b[43mpage\u001b[49m\u001b[38;5;132;43;01m}\u001b[39;49;00m\u001b[38;5;124;43m'\u001b[39;49m\u001b[43m)\u001b[49m\n\u001b[0;32m      8\u001b[0m         soup \u001b[38;5;241m=\u001b[39m BeautifulSoup(res\u001b[38;5;241m.\u001b[39mcontent, \u001b[38;5;124m'\u001b[39m\u001b[38;5;124mhtml.parser\u001b[39m\u001b[38;5;124m'\u001b[39m)\n\u001b[0;32m      9\u001b[0m         car_listings \u001b[38;5;241m=\u001b[39m soup\u001b[38;5;241m.\u001b[39mfind_all(\u001b[38;5;124m'\u001b[39m\u001b[38;5;124ma\u001b[39m\u001b[38;5;124m'\u001b[39m, class_\u001b[38;5;241m=\u001b[39m\u001b[38;5;124m'\u001b[39m\u001b[38;5;124mcar-feature car-feature--wide-mobile\u001b[39m\u001b[38;5;124m'\u001b[39m)\n",
      "File \u001b[1;32m~\\anaconda3\\lib\\site-packages\\requests\\api.py:73\u001b[0m, in \u001b[0;36mget\u001b[1;34m(url, params, **kwargs)\u001b[0m\n\u001b[0;32m     62\u001b[0m \u001b[38;5;28;01mdef\u001b[39;00m \u001b[38;5;21mget\u001b[39m(url, params\u001b[38;5;241m=\u001b[39m\u001b[38;5;28;01mNone\u001b[39;00m, \u001b[38;5;241m*\u001b[39m\u001b[38;5;241m*\u001b[39mkwargs):\n\u001b[0;32m     63\u001b[0m     \u001b[38;5;124mr\u001b[39m\u001b[38;5;124;03m\"\"\"Sends a GET request.\u001b[39;00m\n\u001b[0;32m     64\u001b[0m \n\u001b[0;32m     65\u001b[0m \u001b[38;5;124;03m    :param url: URL for the new :class:`Request` object.\u001b[39;00m\n\u001b[1;32m   (...)\u001b[0m\n\u001b[0;32m     70\u001b[0m \u001b[38;5;124;03m    :rtype: requests.Response\u001b[39;00m\n\u001b[0;32m     71\u001b[0m \u001b[38;5;124;03m    \"\"\"\u001b[39;00m\n\u001b[1;32m---> 73\u001b[0m     \u001b[38;5;28;01mreturn\u001b[39;00m request(\u001b[38;5;124m\"\u001b[39m\u001b[38;5;124mget\u001b[39m\u001b[38;5;124m\"\u001b[39m, url, params\u001b[38;5;241m=\u001b[39mparams, \u001b[38;5;241m*\u001b[39m\u001b[38;5;241m*\u001b[39mkwargs)\n",
      "File \u001b[1;32m~\\anaconda3\\lib\\site-packages\\requests\\api.py:59\u001b[0m, in \u001b[0;36mrequest\u001b[1;34m(method, url, **kwargs)\u001b[0m\n\u001b[0;32m     55\u001b[0m \u001b[38;5;66;03m# By using the 'with' statement we are sure the session is closed, thus we\u001b[39;00m\n\u001b[0;32m     56\u001b[0m \u001b[38;5;66;03m# avoid leaving sockets open which can trigger a ResourceWarning in some\u001b[39;00m\n\u001b[0;32m     57\u001b[0m \u001b[38;5;66;03m# cases, and look like a memory leak in others.\u001b[39;00m\n\u001b[0;32m     58\u001b[0m \u001b[38;5;28;01mwith\u001b[39;00m sessions\u001b[38;5;241m.\u001b[39mSession() \u001b[38;5;28;01mas\u001b[39;00m session:\n\u001b[1;32m---> 59\u001b[0m     \u001b[38;5;28;01mreturn\u001b[39;00m session\u001b[38;5;241m.\u001b[39mrequest(method\u001b[38;5;241m=\u001b[39mmethod, url\u001b[38;5;241m=\u001b[39murl, \u001b[38;5;241m*\u001b[39m\u001b[38;5;241m*\u001b[39mkwargs)\n",
      "File \u001b[1;32m~\\anaconda3\\lib\\site-packages\\requests\\sessions.py:587\u001b[0m, in \u001b[0;36mSession.request\u001b[1;34m(self, method, url, params, data, headers, cookies, files, auth, timeout, allow_redirects, proxies, hooks, stream, verify, cert, json)\u001b[0m\n\u001b[0;32m    582\u001b[0m send_kwargs \u001b[38;5;241m=\u001b[39m {\n\u001b[0;32m    583\u001b[0m     \u001b[38;5;124m\"\u001b[39m\u001b[38;5;124mtimeout\u001b[39m\u001b[38;5;124m\"\u001b[39m: timeout,\n\u001b[0;32m    584\u001b[0m     \u001b[38;5;124m\"\u001b[39m\u001b[38;5;124mallow_redirects\u001b[39m\u001b[38;5;124m\"\u001b[39m: allow_redirects,\n\u001b[0;32m    585\u001b[0m }\n\u001b[0;32m    586\u001b[0m send_kwargs\u001b[38;5;241m.\u001b[39mupdate(settings)\n\u001b[1;32m--> 587\u001b[0m resp \u001b[38;5;241m=\u001b[39m \u001b[38;5;28mself\u001b[39m\u001b[38;5;241m.\u001b[39msend(prep, \u001b[38;5;241m*\u001b[39m\u001b[38;5;241m*\u001b[39msend_kwargs)\n\u001b[0;32m    589\u001b[0m \u001b[38;5;28;01mreturn\u001b[39;00m resp\n",
      "File \u001b[1;32m~\\anaconda3\\lib\\site-packages\\requests\\sessions.py:701\u001b[0m, in \u001b[0;36mSession.send\u001b[1;34m(self, request, **kwargs)\u001b[0m\n\u001b[0;32m    698\u001b[0m start \u001b[38;5;241m=\u001b[39m preferred_clock()\n\u001b[0;32m    700\u001b[0m \u001b[38;5;66;03m# Send the request\u001b[39;00m\n\u001b[1;32m--> 701\u001b[0m r \u001b[38;5;241m=\u001b[39m adapter\u001b[38;5;241m.\u001b[39msend(request, \u001b[38;5;241m*\u001b[39m\u001b[38;5;241m*\u001b[39mkwargs)\n\u001b[0;32m    703\u001b[0m \u001b[38;5;66;03m# Total elapsed time of the request (approximately)\u001b[39;00m\n\u001b[0;32m    704\u001b[0m elapsed \u001b[38;5;241m=\u001b[39m preferred_clock() \u001b[38;5;241m-\u001b[39m start\n",
      "File \u001b[1;32m~\\anaconda3\\lib\\site-packages\\requests\\adapters.py:565\u001b[0m, in \u001b[0;36mHTTPAdapter.send\u001b[1;34m(self, request, stream, timeout, verify, cert, proxies)\u001b[0m\n\u001b[0;32m    561\u001b[0m     \u001b[38;5;28;01mif\u001b[39;00m \u001b[38;5;28misinstance\u001b[39m(e\u001b[38;5;241m.\u001b[39mreason, _SSLError):\n\u001b[0;32m    562\u001b[0m         \u001b[38;5;66;03m# This branch is for urllib3 v1.22 and later.\u001b[39;00m\n\u001b[0;32m    563\u001b[0m         \u001b[38;5;28;01mraise\u001b[39;00m SSLError(e, request\u001b[38;5;241m=\u001b[39mrequest)\n\u001b[1;32m--> 565\u001b[0m     \u001b[38;5;28;01mraise\u001b[39;00m \u001b[38;5;167;01mConnectionError\u001b[39;00m(e, request\u001b[38;5;241m=\u001b[39mrequest)\n\u001b[0;32m    567\u001b[0m \u001b[38;5;28;01mexcept\u001b[39;00m ClosedPoolError \u001b[38;5;28;01mas\u001b[39;00m e:\n\u001b[0;32m    568\u001b[0m     \u001b[38;5;28;01mraise\u001b[39;00m \u001b[38;5;167;01mConnectionError\u001b[39;00m(e, request\u001b[38;5;241m=\u001b[39mrequest)\n",
      "\u001b[1;31mConnectionError\u001b[0m: HTTPSConnectionPool(host='www.cars45.com', port=443): Max retries exceeded with url: /listing?page=1 (Caused by NewConnectionError('<urllib3.connection.HTTPSConnection object at 0x000002C27BC028F0>: Failed to establish a new connection: [Errno 11002] getaddrinfo failed'))"
     ]
    }
   ],
   "source": [
    "car_data = main()"
   ]
  },
  {
   "cell_type": "markdown",
   "id": "ccdc7356",
   "metadata": {},
   "source": [
    "# Convert Data to DataFrame"
   ]
  },
  {
   "cell_type": "code",
   "execution_count": 47,
   "id": "4a694029",
   "metadata": {
    "scrolled": true
   },
   "outputs": [
    {
     "ename": "NameError",
     "evalue": "name 'car_data' is not defined",
     "output_type": "error",
     "traceback": [
      "\u001b[1;31m---------------------------------------------------------------------------\u001b[0m",
      "\u001b[1;31mNameError\u001b[0m                                 Traceback (most recent call last)",
      "Cell \u001b[1;32mIn[47], line 1\u001b[0m\n\u001b[1;32m----> 1\u001b[0m car_df \u001b[38;5;241m=\u001b[39m pd\u001b[38;5;241m.\u001b[39mDataFrame(\u001b[43mcar_data\u001b[49m)\n\u001b[0;32m      2\u001b[0m car_df\n",
      "\u001b[1;31mNameError\u001b[0m: name 'car_data' is not defined"
     ]
    }
   ],
   "source": [
    "car_df = pd.DataFrame(car_data)\n",
    "car_df"
   ]
  },
  {
   "cell_type": "markdown",
   "id": "277ae760",
   "metadata": {},
   "source": [
    "# Data Inspection and Wrangling"
   ]
  },
  {
   "cell_type": "code",
   "execution_count": 68,
   "id": "8b5c2315",
   "metadata": {},
   "outputs": [
    {
     "ename": "NameError",
     "evalue": "name 'car_df' is not defined",
     "output_type": "error",
     "traceback": [
      "\u001b[1;31m---------------------------------------------------------------------------\u001b[0m",
      "\u001b[1;31mNameError\u001b[0m                                 Traceback (most recent call last)",
      "Cell \u001b[1;32mIn[68], line 1\u001b[0m\n\u001b[1;32m----> 1\u001b[0m \u001b[43mcar_df\u001b[49m\u001b[38;5;241m.\u001b[39minfo()\n",
      "\u001b[1;31mNameError\u001b[0m: name 'car_df' is not defined"
     ]
    }
   ],
   "source": [
    "car_df.info()"
   ]
  },
  {
   "cell_type": "code",
   "execution_count": 69,
   "id": "ce4cdb6e",
   "metadata": {
    "scrolled": true
   },
   "outputs": [
    {
     "ename": "NameError",
     "evalue": "name 'car_df' is not defined",
     "output_type": "error",
     "traceback": [
      "\u001b[1;31m---------------------------------------------------------------------------\u001b[0m",
      "\u001b[1;31mNameError\u001b[0m                                 Traceback (most recent call last)",
      "Cell \u001b[1;32mIn[69], line 2\u001b[0m\n\u001b[0;32m      1\u001b[0m \u001b[38;5;66;03m# check number of duplicate\u001b[39;00m\n\u001b[1;32m----> 2\u001b[0m \u001b[43mcar_df\u001b[49m\u001b[38;5;241m.\u001b[39mduplicated()\u001b[38;5;241m.\u001b[39msum()\n",
      "\u001b[1;31mNameError\u001b[0m: name 'car_df' is not defined"
     ]
    }
   ],
   "source": [
    "# check number of duplicate\n",
    "car_df.duplicated().sum()"
   ]
  },
  {
   "cell_type": "code",
   "execution_count": 70,
   "id": "1142d9b5",
   "metadata": {},
   "outputs": [
    {
     "ename": "NameError",
     "evalue": "name 'car_df' is not defined",
     "output_type": "error",
     "traceback": [
      "\u001b[1;31m---------------------------------------------------------------------------\u001b[0m",
      "\u001b[1;31mNameError\u001b[0m                                 Traceback (most recent call last)",
      "Cell \u001b[1;32mIn[70], line 2\u001b[0m\n\u001b[0;32m      1\u001b[0m \u001b[38;5;66;03m# remove duplicate\u001b[39;00m\n\u001b[1;32m----> 2\u001b[0m \u001b[43mcar_df\u001b[49m\u001b[38;5;241m.\u001b[39mdrop_duplicates(inplace\u001b[38;5;241m=\u001b[39m\u001b[38;5;28;01mTrue\u001b[39;00m)\n",
      "\u001b[1;31mNameError\u001b[0m: name 'car_df' is not defined"
     ]
    }
   ],
   "source": [
    "# remove duplicate\n",
    "car_df.drop_duplicates(inplace=True)"
   ]
  },
  {
   "cell_type": "code",
   "execution_count": 71,
   "id": "c5622624",
   "metadata": {},
   "outputs": [
    {
     "ename": "NameError",
     "evalue": "name 'car_df' is not defined",
     "output_type": "error",
     "traceback": [
      "\u001b[1;31m---------------------------------------------------------------------------\u001b[0m",
      "\u001b[1;31mNameError\u001b[0m                                 Traceback (most recent call last)",
      "Cell \u001b[1;32mIn[71], line 1\u001b[0m\n\u001b[1;32m----> 1\u001b[0m \u001b[43mcar_df\u001b[49m\u001b[38;5;241m.\u001b[39mhead()\n",
      "\u001b[1;31mNameError\u001b[0m: name 'car_df' is not defined"
     ]
    }
   ],
   "source": [
    "car_df.head()"
   ]
  },
  {
   "cell_type": "code",
   "execution_count": null,
   "id": "cbe3605e",
   "metadata": {},
   "outputs": [],
   "source": [
    "# replace '/' with ''\n",
    "car_df['car_id'] = car_df['car_id'].str.replace('/','')"
   ]
  },
  {
   "cell_type": "code",
   "execution_count": null,
   "id": "b33bfe5f",
   "metadata": {},
   "outputs": [],
   "source": [
    "# replace '₦' with ''\n",
    "car_df['amount'] = car_df['amount'].str.replace('₦','')"
   ]
  },
  {
   "cell_type": "code",
   "execution_count": null,
   "id": "57bb18ab",
   "metadata": {},
   "outputs": [],
   "source": [
    "# replace ',' with ''\n",
    "car_df['amount'] = car_df['amount'].str.replace(',','')"
   ]
  },
  {
   "cell_type": "code",
   "execution_count": null,
   "id": "a2b25abf",
   "metadata": {},
   "outputs": [],
   "source": [
    "# replace 'km' with ''\n",
    "car_df['mileage'] = car_df['mileage'].str.replace('km','')"
   ]
  },
  {
   "cell_type": "code",
   "execution_count": null,
   "id": "94ac79b6",
   "metadata": {},
   "outputs": [],
   "source": [
    "car_df.head()"
   ]
  },
  {
   "cell_type": "code",
   "execution_count": null,
   "id": "d55ba08d",
   "metadata": {},
   "outputs": [],
   "source": [
    "car_df"
   ]
  },
  {
   "cell_type": "markdown",
   "id": "4edac300",
   "metadata": {},
   "source": [
    "# Export into CSV"
   ]
  },
  {
   "cell_type": "code",
   "execution_count": null,
   "id": "8bdd472b",
   "metadata": {},
   "outputs": [],
   "source": [
    "car_df.to_csv(\"car45_data.csv\")"
   ]
  }
 ],
 "metadata": {
  "kernelspec": {
   "display_name": "Python 3 (ipykernel)",
   "language": "python",
   "name": "python3"
  },
  "language_info": {
   "codemirror_mode": {
    "name": "ipython",
    "version": 3
   },
   "file_extension": ".py",
   "mimetype": "text/x-python",
   "name": "python",
   "nbconvert_exporter": "python",
   "pygments_lexer": "ipython3",
   "version": "3.10.9"
  }
 },
 "nbformat": 4,
 "nbformat_minor": 5
}
